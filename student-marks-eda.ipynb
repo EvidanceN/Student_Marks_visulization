{
 "cells": [
  {
   "cell_type": "markdown",
   "id": "89004780",
   "metadata": {
    "execution": {
     "iopub.execute_input": "2024-05-17T12:21:36.035083Z",
     "iopub.status.busy": "2024-05-17T12:21:36.034691Z",
     "iopub.status.idle": "2024-05-17T12:21:37.198021Z",
     "shell.execute_reply": "2024-05-17T12:21:37.196738Z",
     "shell.execute_reply.started": "2024-05-17T12:21:36.035054Z"
    },
    "papermill": {
     "duration": 0.00598,
     "end_time": "2024-06-25T20:26:55.164278",
     "exception": false,
     "start_time": "2024-06-25T20:26:55.158298",
     "status": "completed"
    },
    "tags": []
   },
   "source": [
    "# Data visualization of student marks from different states for the 12th final exam PMB(Physics, Bio and Maths)"
   ]
  },
  {
   "cell_type": "code",
   "execution_count": 1,
   "id": "dfa43049",
   "metadata": {
    "execution": {
     "iopub.execute_input": "2024-06-25T20:26:55.176611Z",
     "iopub.status.busy": "2024-06-25T20:26:55.176203Z",
     "iopub.status.idle": "2024-06-25T20:26:57.505484Z",
     "shell.execute_reply": "2024-06-25T20:26:57.504366Z"
    },
    "papermill": {
     "duration": 2.338282,
     "end_time": "2024-06-25T20:26:57.508005",
     "exception": false,
     "start_time": "2024-06-25T20:26:55.169723",
     "status": "completed"
    },
    "tags": []
   },
   "outputs": [],
   "source": [
    "import pandas as pd \n",
    "import numpy as np \n",
    "import seaborn as sns \n",
    "import matplotlib.pyplot as plt \n",
    "from matplotlib import style\n",
    "%matplotlib inline"
   ]
  },
  {
   "cell_type": "markdown",
   "id": "fab26f36",
   "metadata": {
    "papermill": {
     "duration": 0.005484,
     "end_time": "2024-06-25T20:26:57.519173",
     "exception": false,
     "start_time": "2024-06-25T20:26:57.513689",
     "status": "completed"
    },
    "tags": []
   },
   "source": [
    "# Importing the excel data"
   ]
  },
  {
   "cell_type": "code",
   "execution_count": 2,
   "id": "7d7ddcf5",
   "metadata": {
    "execution": {
     "iopub.execute_input": "2024-06-25T20:26:57.532242Z",
     "iopub.status.busy": "2024-06-25T20:26:57.531695Z",
     "iopub.status.idle": "2024-06-25T20:26:58.009455Z",
     "shell.execute_reply": "2024-06-25T20:26:58.008294Z"
    },
    "papermill": {
     "duration": 0.487139,
     "end_time": "2024-06-25T20:26:58.011753",
     "exception": false,
     "start_time": "2024-06-25T20:26:57.524614",
     "status": "completed"
    },
    "tags": []
   },
   "outputs": [
    {
     "data": {
      "text/html": [
       "<div>\n",
       "<style scoped>\n",
       "    .dataframe tbody tr th:only-of-type {\n",
       "        vertical-align: middle;\n",
       "    }\n",
       "\n",
       "    .dataframe tbody tr th {\n",
       "        vertical-align: top;\n",
       "    }\n",
       "\n",
       "    .dataframe thead th {\n",
       "        text-align: right;\n",
       "    }\n",
       "</style>\n",
       "<table border=\"1\" class=\"dataframe\">\n",
       "  <thead>\n",
       "    <tr style=\"text-align: right;\">\n",
       "      <th></th>\n",
       "      <th>name</th>\n",
       "      <th>gender</th>\n",
       "      <th>state</th>\n",
       "      <th>phy</th>\n",
       "      <th>maths</th>\n",
       "      <th>bio</th>\n",
       "    </tr>\n",
       "  </thead>\n",
       "  <tbody>\n",
       "    <tr>\n",
       "      <th>0</th>\n",
       "      <td>rohan</td>\n",
       "      <td>male</td>\n",
       "      <td>mh</td>\n",
       "      <td>60</td>\n",
       "      <td>90</td>\n",
       "      <td>68</td>\n",
       "    </tr>\n",
       "    <tr>\n",
       "      <th>1</th>\n",
       "      <td>aniket</td>\n",
       "      <td>male</td>\n",
       "      <td>up</td>\n",
       "      <td>52</td>\n",
       "      <td>85</td>\n",
       "      <td>72</td>\n",
       "    </tr>\n",
       "    <tr>\n",
       "      <th>2</th>\n",
       "      <td>ganesh</td>\n",
       "      <td>male</td>\n",
       "      <td>up</td>\n",
       "      <td>45</td>\n",
       "      <td>82</td>\n",
       "      <td>78</td>\n",
       "    </tr>\n",
       "    <tr>\n",
       "      <th>3</th>\n",
       "      <td>meena</td>\n",
       "      <td>female</td>\n",
       "      <td>mp</td>\n",
       "      <td>72</td>\n",
       "      <td>69</td>\n",
       "      <td>80</td>\n",
       "    </tr>\n",
       "    <tr>\n",
       "      <th>4</th>\n",
       "      <td>seema</td>\n",
       "      <td>female</td>\n",
       "      <td>mh</td>\n",
       "      <td>68</td>\n",
       "      <td>90</td>\n",
       "      <td>78</td>\n",
       "    </tr>\n",
       "    <tr>\n",
       "      <th>5</th>\n",
       "      <td>dinesh</td>\n",
       "      <td>male</td>\n",
       "      <td>mp</td>\n",
       "      <td>48</td>\n",
       "      <td>34</td>\n",
       "      <td>67</td>\n",
       "    </tr>\n",
       "    <tr>\n",
       "      <th>6</th>\n",
       "      <td>yogita</td>\n",
       "      <td>female</td>\n",
       "      <td>mp</td>\n",
       "      <td>39</td>\n",
       "      <td>65</td>\n",
       "      <td>90</td>\n",
       "    </tr>\n",
       "    <tr>\n",
       "      <th>7</th>\n",
       "      <td>karan</td>\n",
       "      <td>male</td>\n",
       "      <td>mh</td>\n",
       "      <td>82</td>\n",
       "      <td>78</td>\n",
       "      <td>55</td>\n",
       "    </tr>\n",
       "    <tr>\n",
       "      <th>8</th>\n",
       "      <td>jayesh</td>\n",
       "      <td>male</td>\n",
       "      <td>up</td>\n",
       "      <td>87</td>\n",
       "      <td>88</td>\n",
       "      <td>32</td>\n",
       "    </tr>\n",
       "    <tr>\n",
       "      <th>9</th>\n",
       "      <td>mangesh</td>\n",
       "      <td>male</td>\n",
       "      <td>mp</td>\n",
       "      <td>91</td>\n",
       "      <td>78</td>\n",
       "      <td>82</td>\n",
       "    </tr>\n",
       "    <tr>\n",
       "      <th>10</th>\n",
       "      <td>geeta</td>\n",
       "      <td>female</td>\n",
       "      <td>mh</td>\n",
       "      <td>31</td>\n",
       "      <td>58</td>\n",
       "      <td>78</td>\n",
       "    </tr>\n",
       "    <tr>\n",
       "      <th>11</th>\n",
       "      <td>runali</td>\n",
       "      <td>female</td>\n",
       "      <td>up</td>\n",
       "      <td>85</td>\n",
       "      <td>92</td>\n",
       "      <td>66</td>\n",
       "    </tr>\n",
       "    <tr>\n",
       "      <th>12</th>\n",
       "      <td>tushar</td>\n",
       "      <td>male</td>\n",
       "      <td>up</td>\n",
       "      <td>32</td>\n",
       "      <td>92</td>\n",
       "      <td>77</td>\n",
       "    </tr>\n",
       "    <tr>\n",
       "      <th>13</th>\n",
       "      <td>binod</td>\n",
       "      <td>male</td>\n",
       "      <td>mh</td>\n",
       "      <td>95</td>\n",
       "      <td>78</td>\n",
       "      <td>88</td>\n",
       "    </tr>\n",
       "    <tr>\n",
       "      <th>14</th>\n",
       "      <td>sanjay</td>\n",
       "      <td>male</td>\n",
       "      <td>mh</td>\n",
       "      <td>63</td>\n",
       "      <td>90</td>\n",
       "      <td>80</td>\n",
       "    </tr>\n",
       "  </tbody>\n",
       "</table>\n",
       "</div>"
      ],
      "text/plain": [
       "       name  gender state  phy  maths  bio\n",
       "0     rohan    male    mh   60     90   68\n",
       "1    aniket    male    up   52     85   72\n",
       "2    ganesh    male    up   45     82   78\n",
       "3     meena  female    mp   72     69   80\n",
       "4     seema  female    mh   68     90   78\n",
       "5    dinesh    male    mp   48     34   67\n",
       "6    yogita  female    mp   39     65   90\n",
       "7     karan    male    mh   82     78   55\n",
       "8    jayesh    male    up   87     88   32\n",
       "9   mangesh    male    mp   91     78   82\n",
       "10    geeta  female    mh   31     58   78\n",
       "11   runali  female    up   85     92   66\n",
       "12   tushar    male    up   32     92   77\n",
       "13    binod    male    mh   95     78   88\n",
       "14   sanjay    male    mh   63     90   80"
      ]
     },
     "execution_count": 2,
     "metadata": {},
     "output_type": "execute_result"
    }
   ],
   "source": [
    "Marks=pd.read_excel('/kaggle/input/result/marksheet.xlsx') \n",
    "Marks "
   ]
  },
  {
   "cell_type": "markdown",
   "id": "87172e6e",
   "metadata": {
    "papermill": {
     "duration": 0.005364,
     "end_time": "2024-06-25T20:26:58.022984",
     "exception": false,
     "start_time": "2024-06-25T20:26:58.017620",
     "status": "completed"
    },
    "tags": []
   },
   "source": [
    "# Changed the column names to how i prefer my columns to be named😎"
   ]
  },
  {
   "cell_type": "code",
   "execution_count": 3,
   "id": "a0b734d2",
   "metadata": {
    "execution": {
     "iopub.execute_input": "2024-06-25T20:26:58.036089Z",
     "iopub.status.busy": "2024-06-25T20:26:58.035573Z",
     "iopub.status.idle": "2024-06-25T20:26:58.049800Z",
     "shell.execute_reply": "2024-06-25T20:26:58.048665Z"
    },
    "papermill": {
     "duration": 0.023597,
     "end_time": "2024-06-25T20:26:58.052309",
     "exception": false,
     "start_time": "2024-06-25T20:26:58.028712",
     "status": "completed"
    },
    "tags": []
   },
   "outputs": [
    {
     "data": {
      "text/html": [
       "<div>\n",
       "<style scoped>\n",
       "    .dataframe tbody tr th:only-of-type {\n",
       "        vertical-align: middle;\n",
       "    }\n",
       "\n",
       "    .dataframe tbody tr th {\n",
       "        vertical-align: top;\n",
       "    }\n",
       "\n",
       "    .dataframe thead th {\n",
       "        text-align: right;\n",
       "    }\n",
       "</style>\n",
       "<table border=\"1\" class=\"dataframe\">\n",
       "  <thead>\n",
       "    <tr style=\"text-align: right;\">\n",
       "      <th></th>\n",
       "      <th>Name</th>\n",
       "      <th>Gender</th>\n",
       "      <th>State</th>\n",
       "      <th>Physical Science</th>\n",
       "      <th>Mathematics</th>\n",
       "      <th>Biology</th>\n",
       "    </tr>\n",
       "  </thead>\n",
       "  <tbody>\n",
       "    <tr>\n",
       "      <th>0</th>\n",
       "      <td>rohan</td>\n",
       "      <td>male</td>\n",
       "      <td>mh</td>\n",
       "      <td>60</td>\n",
       "      <td>90</td>\n",
       "      <td>68</td>\n",
       "    </tr>\n",
       "    <tr>\n",
       "      <th>1</th>\n",
       "      <td>aniket</td>\n",
       "      <td>male</td>\n",
       "      <td>up</td>\n",
       "      <td>52</td>\n",
       "      <td>85</td>\n",
       "      <td>72</td>\n",
       "    </tr>\n",
       "    <tr>\n",
       "      <th>2</th>\n",
       "      <td>ganesh</td>\n",
       "      <td>male</td>\n",
       "      <td>up</td>\n",
       "      <td>45</td>\n",
       "      <td>82</td>\n",
       "      <td>78</td>\n",
       "    </tr>\n",
       "    <tr>\n",
       "      <th>3</th>\n",
       "      <td>meena</td>\n",
       "      <td>female</td>\n",
       "      <td>mp</td>\n",
       "      <td>72</td>\n",
       "      <td>69</td>\n",
       "      <td>80</td>\n",
       "    </tr>\n",
       "    <tr>\n",
       "      <th>4</th>\n",
       "      <td>seema</td>\n",
       "      <td>female</td>\n",
       "      <td>mh</td>\n",
       "      <td>68</td>\n",
       "      <td>90</td>\n",
       "      <td>78</td>\n",
       "    </tr>\n",
       "    <tr>\n",
       "      <th>5</th>\n",
       "      <td>dinesh</td>\n",
       "      <td>male</td>\n",
       "      <td>mp</td>\n",
       "      <td>48</td>\n",
       "      <td>34</td>\n",
       "      <td>67</td>\n",
       "    </tr>\n",
       "    <tr>\n",
       "      <th>6</th>\n",
       "      <td>yogita</td>\n",
       "      <td>female</td>\n",
       "      <td>mp</td>\n",
       "      <td>39</td>\n",
       "      <td>65</td>\n",
       "      <td>90</td>\n",
       "    </tr>\n",
       "    <tr>\n",
       "      <th>7</th>\n",
       "      <td>karan</td>\n",
       "      <td>male</td>\n",
       "      <td>mh</td>\n",
       "      <td>82</td>\n",
       "      <td>78</td>\n",
       "      <td>55</td>\n",
       "    </tr>\n",
       "    <tr>\n",
       "      <th>8</th>\n",
       "      <td>jayesh</td>\n",
       "      <td>male</td>\n",
       "      <td>up</td>\n",
       "      <td>87</td>\n",
       "      <td>88</td>\n",
       "      <td>32</td>\n",
       "    </tr>\n",
       "    <tr>\n",
       "      <th>9</th>\n",
       "      <td>mangesh</td>\n",
       "      <td>male</td>\n",
       "      <td>mp</td>\n",
       "      <td>91</td>\n",
       "      <td>78</td>\n",
       "      <td>82</td>\n",
       "    </tr>\n",
       "    <tr>\n",
       "      <th>10</th>\n",
       "      <td>geeta</td>\n",
       "      <td>female</td>\n",
       "      <td>mh</td>\n",
       "      <td>31</td>\n",
       "      <td>58</td>\n",
       "      <td>78</td>\n",
       "    </tr>\n",
       "    <tr>\n",
       "      <th>11</th>\n",
       "      <td>runali</td>\n",
       "      <td>female</td>\n",
       "      <td>up</td>\n",
       "      <td>85</td>\n",
       "      <td>92</td>\n",
       "      <td>66</td>\n",
       "    </tr>\n",
       "    <tr>\n",
       "      <th>12</th>\n",
       "      <td>tushar</td>\n",
       "      <td>male</td>\n",
       "      <td>up</td>\n",
       "      <td>32</td>\n",
       "      <td>92</td>\n",
       "      <td>77</td>\n",
       "    </tr>\n",
       "    <tr>\n",
       "      <th>13</th>\n",
       "      <td>binod</td>\n",
       "      <td>male</td>\n",
       "      <td>mh</td>\n",
       "      <td>95</td>\n",
       "      <td>78</td>\n",
       "      <td>88</td>\n",
       "    </tr>\n",
       "    <tr>\n",
       "      <th>14</th>\n",
       "      <td>sanjay</td>\n",
       "      <td>male</td>\n",
       "      <td>mh</td>\n",
       "      <td>63</td>\n",
       "      <td>90</td>\n",
       "      <td>80</td>\n",
       "    </tr>\n",
       "  </tbody>\n",
       "</table>\n",
       "</div>"
      ],
      "text/plain": [
       "       Name  Gender State  Physical Science  Mathematics  Biology\n",
       "0     rohan    male    mh                60           90       68\n",
       "1    aniket    male    up                52           85       72\n",
       "2    ganesh    male    up                45           82       78\n",
       "3     meena  female    mp                72           69       80\n",
       "4     seema  female    mh                68           90       78\n",
       "5    dinesh    male    mp                48           34       67\n",
       "6    yogita  female    mp                39           65       90\n",
       "7     karan    male    mh                82           78       55\n",
       "8    jayesh    male    up                87           88       32\n",
       "9   mangesh    male    mp                91           78       82\n",
       "10    geeta  female    mh                31           58       78\n",
       "11   runali  female    up                85           92       66\n",
       "12   tushar    male    up                32           92       77\n",
       "13    binod    male    mh                95           78       88\n",
       "14   sanjay    male    mh                63           90       80"
      ]
     },
     "execution_count": 3,
     "metadata": {},
     "output_type": "execute_result"
    }
   ],
   "source": [
    "new_column_names = {'phy': 'Physical Science',\n",
    "                  'maths': 'Mathematics',\n",
    "                  'bio': 'Biology',\n",
    "                  'name':'Name',\n",
    "                  'gender':'Gender',\n",
    "                  'state':'State'\n",
    "                 }\n",
    "Marks.rename(columns=new_column_names, inplace=True)\n",
    "\n",
    "Marks"
   ]
  },
  {
   "cell_type": "markdown",
   "id": "a6579474",
   "metadata": {
    "papermill": {
     "duration": 0.005736,
     "end_time": "2024-06-25T20:26:58.064136",
     "exception": false,
     "start_time": "2024-06-25T20:26:58.058400",
     "status": "completed"
    },
    "tags": []
   },
   "source": [
    "# Also did not like the fact that the names where in small letters:("
   ]
  },
  {
   "cell_type": "code",
   "execution_count": 4,
   "id": "c0ef08ac",
   "metadata": {
    "execution": {
     "iopub.execute_input": "2024-06-25T20:26:58.077645Z",
     "iopub.status.busy": "2024-06-25T20:26:58.077266Z",
     "iopub.status.idle": "2024-06-25T20:26:58.085416Z",
     "shell.execute_reply": "2024-06-25T20:26:58.084355Z"
    },
    "papermill": {
     "duration": 0.017739,
     "end_time": "2024-06-25T20:26:58.087870",
     "exception": false,
     "start_time": "2024-06-25T20:26:58.070131",
     "status": "completed"
    },
    "tags": []
   },
   "outputs": [
    {
     "data": {
      "text/plain": [
       "0       Rohan\n",
       "1      Aniket\n",
       "2      Ganesh\n",
       "3       Meena\n",
       "4       Seema\n",
       "5      Dinesh\n",
       "6      Yogita\n",
       "7       Karan\n",
       "8      Jayesh\n",
       "9     Mangesh\n",
       "10      Geeta\n",
       "11     Runali\n",
       "12     Tushar\n",
       "13      Binod\n",
       "14     Sanjay\n",
       "Name: Name, dtype: object"
      ]
     },
     "execution_count": 4,
     "metadata": {},
     "output_type": "execute_result"
    }
   ],
   "source": [
    "Marks['Name'].str.title()\n",
    "\n"
   ]
  },
  {
   "cell_type": "markdown",
   "id": "dc365f00",
   "metadata": {
    "papermill": {
     "duration": 0.005765,
     "end_time": "2024-06-25T20:26:58.100011",
     "exception": false,
     "start_time": "2024-06-25T20:26:58.094246",
     "status": "completed"
    },
    "tags": []
   },
   "source": [
    "# Checking null values to see if the data needs to be cleaned or not"
   ]
  },
  {
   "cell_type": "code",
   "execution_count": 5,
   "id": "e59bec30",
   "metadata": {
    "execution": {
     "iopub.execute_input": "2024-06-25T20:26:58.114595Z",
     "iopub.status.busy": "2024-06-25T20:26:58.114215Z",
     "iopub.status.idle": "2024-06-25T20:26:58.138254Z",
     "shell.execute_reply": "2024-06-25T20:26:58.136515Z"
    },
    "papermill": {
     "duration": 0.034739,
     "end_time": "2024-06-25T20:26:58.140703",
     "exception": false,
     "start_time": "2024-06-25T20:26:58.105964",
     "status": "completed"
    },
    "tags": []
   },
   "outputs": [
    {
     "name": "stdout",
     "output_type": "stream",
     "text": [
      "<class 'pandas.core.frame.DataFrame'>\n",
      "RangeIndex: 15 entries, 0 to 14\n",
      "Data columns (total 6 columns):\n",
      " #   Column            Non-Null Count  Dtype \n",
      "---  ------            --------------  ----- \n",
      " 0   Name              15 non-null     object\n",
      " 1   Gender            15 non-null     object\n",
      " 2   State             15 non-null     object\n",
      " 3   Physical Science  15 non-null     int64 \n",
      " 4   Mathematics       15 non-null     int64 \n",
      " 5   Biology           15 non-null     int64 \n",
      "dtypes: int64(3), object(3)\n",
      "memory usage: 848.0+ bytes\n"
     ]
    }
   ],
   "source": [
    "Marks.info()"
   ]
  },
  {
   "cell_type": "markdown",
   "id": "5a11cab4",
   "metadata": {
    "papermill": {
     "duration": 0.005841,
     "end_time": "2024-06-25T20:26:58.152825",
     "exception": false,
     "start_time": "2024-06-25T20:26:58.146984",
     "status": "completed"
    },
    "tags": []
   },
   "source": [
    "# I wanted to see how may male vs females we have in our data"
   ]
  },
  {
   "cell_type": "code",
   "execution_count": 6,
   "id": "3420371c",
   "metadata": {
    "execution": {
     "iopub.execute_input": "2024-06-25T20:26:58.166701Z",
     "iopub.status.busy": "2024-06-25T20:26:58.166292Z",
     "iopub.status.idle": "2024-06-25T20:26:58.174865Z",
     "shell.execute_reply": "2024-06-25T20:26:58.173630Z"
    },
    "papermill": {
     "duration": 0.018524,
     "end_time": "2024-06-25T20:26:58.177419",
     "exception": false,
     "start_time": "2024-06-25T20:26:58.158895",
     "status": "completed"
    },
    "tags": []
   },
   "outputs": [
    {
     "data": {
      "text/plain": [
       "Gender\n",
       "male      10\n",
       "female     5\n",
       "Name: count, dtype: int64"
      ]
     },
     "execution_count": 6,
     "metadata": {},
     "output_type": "execute_result"
    }
   ],
   "source": [
    "Marks['Gender'].value_counts() "
   ]
  },
  {
   "cell_type": "markdown",
   "id": "33b23993",
   "metadata": {
    "papermill": {
     "duration": 0.006314,
     "end_time": "2024-06-25T20:26:58.190182",
     "exception": false,
     "start_time": "2024-06-25T20:26:58.183868",
     "status": "completed"
    },
    "tags": []
   },
   "source": [
    "# How many learners are there per State"
   ]
  },
  {
   "cell_type": "code",
   "execution_count": 7,
   "id": "c4f2cc2f",
   "metadata": {
    "execution": {
     "iopub.execute_input": "2024-06-25T20:26:58.204780Z",
     "iopub.status.busy": "2024-06-25T20:26:58.204413Z",
     "iopub.status.idle": "2024-06-25T20:26:58.214508Z",
     "shell.execute_reply": "2024-06-25T20:26:58.213123Z"
    },
    "papermill": {
     "duration": 0.020113,
     "end_time": "2024-06-25T20:26:58.216724",
     "exception": false,
     "start_time": "2024-06-25T20:26:58.196611",
     "status": "completed"
    },
    "tags": []
   },
   "outputs": [
    {
     "data": {
      "text/plain": [
       "State\n",
       "mh    6\n",
       "up    5\n",
       "mp    4\n",
       "Name: count, dtype: int64"
      ]
     },
     "execution_count": 7,
     "metadata": {},
     "output_type": "execute_result"
    }
   ],
   "source": [
    "Marks['State'].value_counts()\n",
    "#We have 6 learners from the mh state\n",
    "#from 5 learners up state\n",
    "#4 learners from mp state"
   ]
  },
  {
   "cell_type": "markdown",
   "id": "b9ca44ba",
   "metadata": {
    "papermill": {
     "duration": 0.006102,
     "end_time": "2024-06-25T20:26:58.229461",
     "exception": false,
     "start_time": "2024-06-25T20:26:58.223359",
     "status": "completed"
    },
    "tags": []
   },
   "source": [
    "# Describing the data"
   ]
  },
  {
   "cell_type": "code",
   "execution_count": 8,
   "id": "bb6fae86",
   "metadata": {
    "execution": {
     "iopub.execute_input": "2024-06-25T20:26:58.243697Z",
     "iopub.status.busy": "2024-06-25T20:26:58.243185Z",
     "iopub.status.idle": "2024-06-25T20:26:58.266470Z",
     "shell.execute_reply": "2024-06-25T20:26:58.265300Z"
    },
    "papermill": {
     "duration": 0.033085,
     "end_time": "2024-06-25T20:26:58.268837",
     "exception": false,
     "start_time": "2024-06-25T20:26:58.235752",
     "status": "completed"
    },
    "tags": []
   },
   "outputs": [
    {
     "data": {
      "text/html": [
       "<div>\n",
       "<style scoped>\n",
       "    .dataframe tbody tr th:only-of-type {\n",
       "        vertical-align: middle;\n",
       "    }\n",
       "\n",
       "    .dataframe tbody tr th {\n",
       "        vertical-align: top;\n",
       "    }\n",
       "\n",
       "    .dataframe thead th {\n",
       "        text-align: right;\n",
       "    }\n",
       "</style>\n",
       "<table border=\"1\" class=\"dataframe\">\n",
       "  <thead>\n",
       "    <tr style=\"text-align: right;\">\n",
       "      <th></th>\n",
       "      <th>Physical Science</th>\n",
       "      <th>Mathematics</th>\n",
       "      <th>Biology</th>\n",
       "    </tr>\n",
       "  </thead>\n",
       "  <tbody>\n",
       "    <tr>\n",
       "      <th>count</th>\n",
       "      <td>15.000000</td>\n",
       "      <td>15.000000</td>\n",
       "      <td>15.000000</td>\n",
       "    </tr>\n",
       "    <tr>\n",
       "      <th>mean</th>\n",
       "      <td>63.333333</td>\n",
       "      <td>77.933333</td>\n",
       "      <td>72.733333</td>\n",
       "    </tr>\n",
       "    <tr>\n",
       "      <th>std</th>\n",
       "      <td>21.668498</td>\n",
       "      <td>15.979749</td>\n",
       "      <td>14.389811</td>\n",
       "    </tr>\n",
       "    <tr>\n",
       "      <th>min</th>\n",
       "      <td>31.000000</td>\n",
       "      <td>34.000000</td>\n",
       "      <td>32.000000</td>\n",
       "    </tr>\n",
       "    <tr>\n",
       "      <th>25%</th>\n",
       "      <td>46.500000</td>\n",
       "      <td>73.500000</td>\n",
       "      <td>67.500000</td>\n",
       "    </tr>\n",
       "    <tr>\n",
       "      <th>50%</th>\n",
       "      <td>63.000000</td>\n",
       "      <td>82.000000</td>\n",
       "      <td>78.000000</td>\n",
       "    </tr>\n",
       "    <tr>\n",
       "      <th>75%</th>\n",
       "      <td>83.500000</td>\n",
       "      <td>90.000000</td>\n",
       "      <td>80.000000</td>\n",
       "    </tr>\n",
       "    <tr>\n",
       "      <th>max</th>\n",
       "      <td>95.000000</td>\n",
       "      <td>92.000000</td>\n",
       "      <td>90.000000</td>\n",
       "    </tr>\n",
       "  </tbody>\n",
       "</table>\n",
       "</div>"
      ],
      "text/plain": [
       "       Physical Science  Mathematics    Biology\n",
       "count         15.000000    15.000000  15.000000\n",
       "mean          63.333333    77.933333  72.733333\n",
       "std           21.668498    15.979749  14.389811\n",
       "min           31.000000    34.000000  32.000000\n",
       "25%           46.500000    73.500000  67.500000\n",
       "50%           63.000000    82.000000  78.000000\n",
       "75%           83.500000    90.000000  80.000000\n",
       "max           95.000000    92.000000  90.000000"
      ]
     },
     "execution_count": 8,
     "metadata": {},
     "output_type": "execute_result"
    }
   ],
   "source": [
    "Marks.describe()\n",
    "#Using the describe we can see that the highest marks in physical science is 95 and the lowest mark is 31\n",
    "#In Mathematics the highest mark is 92 and the lowest mark is 34\n",
    "#In Biology the highest mark is 90 and the lowest mark is 32\n"
   ]
  },
  {
   "cell_type": "markdown",
   "id": "44938ff1",
   "metadata": {
    "papermill": {
     "duration": 0.006509,
     "end_time": "2024-06-25T20:26:58.282163",
     "exception": false,
     "start_time": "2024-06-25T20:26:58.275654",
     "status": "completed"
    },
    "tags": []
   },
   "source": [
    "# Presenting the Physical Science Marks"
   ]
  },
  {
   "cell_type": "code",
   "execution_count": 9,
   "id": "61ced76d",
   "metadata": {
    "execution": {
     "iopub.execute_input": "2024-06-25T20:26:58.297943Z",
     "iopub.status.busy": "2024-06-25T20:26:58.297536Z",
     "iopub.status.idle": "2024-06-25T20:26:58.637011Z",
     "shell.execute_reply": "2024-06-25T20:26:58.635829Z"
    },
    "papermill": {
     "duration": 0.350176,
     "end_time": "2024-06-25T20:26:58.639495",
     "exception": false,
     "start_time": "2024-06-25T20:26:58.289319",
     "status": "completed"
    },
    "tags": []
   },
   "outputs": [
    {
     "data": {
      "image/png": "[encoded data removed]",
      "text/plain": [
       "<Figure size 1500x600 with 1 Axes>"
      ]
     },
     "metadata": {},
     "output_type": "display_data"
    }
   ],
   "source": [
    "Marks=pd.read_excel('/kaggle/input/result/marksheet.xlsx') \n",
    "x=Marks['name']\n",
    "y=Marks['phy']\n",
    "\n",
    "style.use('ggplot')\n",
    "plt.figure(figsize=(15, 6)) #setting the figure size\n",
    "plt.bar(x,y ,color='black')#the bar graph\n",
    "plt.xlabel('Student names')  # Set the label for the x-axis\n",
    "plt.ylabel('Physical Science marks')  # Set the label for the y-axis\n",
    "plt.title('A bar graph presenting the Physical Science marks')  # Set the title of the plot\n",
    "plt.show()\n",
    "\n",
    "#Using the visulization we can see the Geeta is the lowest with 31 marks\n",
    "#Binod is the highest with 95 marks"
   ]
  },
  {
   "cell_type": "markdown",
   "id": "9724643d",
   "metadata": {
    "papermill": {
     "duration": 0.007183,
     "end_time": "2024-06-25T20:26:58.654044",
     "exception": false,
     "start_time": "2024-06-25T20:26:58.646861",
     "status": "completed"
    },
    "tags": []
   },
   "source": [
    "# Presenting the Mathematics marks"
   ]
  },
  {
   "cell_type": "code",
   "execution_count": 10,
   "id": "fa2cebdd",
   "metadata": {
    "execution": {
     "iopub.execute_input": "2024-06-25T20:26:58.673381Z",
     "iopub.status.busy": "2024-06-25T20:26:58.672949Z",
     "iopub.status.idle": "2024-06-25T20:26:58.964393Z",
     "shell.execute_reply": "2024-06-25T20:26:58.963234Z"
    },
    "papermill": {
     "duration": 0.303507,
     "end_time": "2024-06-25T20:26:58.966758",
     "exception": false,
     "start_time": "2024-06-25T20:26:58.663251",
     "status": "completed"
    },
    "tags": []
   },
   "outputs": [
    {
     "data": {
      "image/png": "[encoded data removed]",
      "text/plain": [
       "<Figure size 1500x600 with 1 Axes>"
      ]
     },
     "metadata": {},
     "output_type": "display_data"
    }
   ],
   "source": [
    "#plotting the bar graph\n",
    "x=Marks['name']\n",
    "y=Marks['maths']\n",
    "\n",
    "style.use('ggplot')\n",
    "plt.figure(figsize=(15, 6)) #setting the figure size\n",
    "plt.bar(x,y ,color='black')#the bar graph\n",
    "plt.xlabel('Student names')  # Set the label for the x-axis\n",
    "plt.ylabel('Mathematics marks')  # Set the label for the y-axis\n",
    "plt.title('A bar graph presenting the Mathematics marks')  # Set the title of the plot\n",
    "plt.show()\n",
    "\n",
    "#Rulani is the highest with 92 marks\n",
    "#Dinesh is the lowest with 34 "
   ]
  },
  {
   "cell_type": "markdown",
   "id": "0dabf817",
   "metadata": {
    "papermill": {
     "duration": 0.007936,
     "end_time": "2024-06-25T20:26:58.982916",
     "exception": false,
     "start_time": "2024-06-25T20:26:58.974980",
     "status": "completed"
    },
    "tags": []
   },
   "source": [
    "# Biology marks"
   ]
  },
  {
   "cell_type": "code",
   "execution_count": 11,
   "id": "13376577",
   "metadata": {
    "execution": {
     "iopub.execute_input": "2024-06-25T20:26:59.000943Z",
     "iopub.status.busy": "2024-06-25T20:26:59.000547Z",
     "iopub.status.idle": "2024-06-25T20:26:59.286081Z",
     "shell.execute_reply": "2024-06-25T20:26:59.284973Z"
    },
    "papermill": {
     "duration": 0.297533,
     "end_time": "2024-06-25T20:26:59.288545",
     "exception": false,
     "start_time": "2024-06-25T20:26:58.991012",
     "status": "completed"
    },
    "tags": []
   },
   "outputs": [
    {
     "data": {
      "image/png": "[encoded data removed]",
      "text/plain": [
       "<Figure size 1500x600 with 1 Axes>"
      ]
     },
     "metadata": {},
     "output_type": "display_data"
    }
   ],
   "source": [
    "#plotting the bar graph \n",
    "x=Marks['name']\n",
    "y=Marks['bio']\n",
    "\n",
    "style.use('ggplot')\n",
    "plt.figure(figsize=(15, 6)) #setting the figure size\n",
    "plt.bar(x,y ,color='black')#the bar graph\n",
    "plt.xlabel('Student names')  # Set the label for the x-axis\n",
    "plt.ylabel('Biology marks')  # Set the label for the y-axis\n",
    "plt.title('A bar graph presenting the Biology marks')  # Set the title of the plot\n",
    "plt.show()\n",
    "\n",
    "\n",
    "# Yogitha is the highest with 90 marks\n",
    "#Jayesh is the lowest with 34 marks"
   ]
  },
  {
   "cell_type": "markdown",
   "id": "a9f2b9bd",
   "metadata": {
    "papermill": {
     "duration": 0.008578,
     "end_time": "2024-06-25T20:26:59.306139",
     "exception": false,
     "start_time": "2024-06-25T20:26:59.297561",
     "status": "completed"
    },
    "tags": []
   },
   "source": [
    "# Finding the relationship between the Physical Science, Mathematics and Life science"
   ]
  },
  {
   "cell_type": "code",
   "execution_count": 12,
   "id": "7adb3384",
   "metadata": {
    "execution": {
     "iopub.execute_input": "2024-06-25T20:26:59.332355Z",
     "iopub.status.busy": "2024-06-25T20:26:59.331931Z",
     "iopub.status.idle": "2024-06-25T20:26:59.720576Z",
     "shell.execute_reply": "2024-06-25T20:26:59.719460Z"
    },
    "papermill": {
     "duration": 0.408041,
     "end_time": "2024-06-25T20:26:59.723127",
     "exception": false,
     "start_time": "2024-06-25T20:26:59.315086",
     "status": "completed"
    },
    "tags": []
   },
   "outputs": [
    {
     "data": {
      "image/png": "[encoded data removed]",
      "text/plain": [
       "<Figure size 1500x600 with 1 Axes>"
      ]
     },
     "metadata": {},
     "output_type": "display_data"
    }
   ],
   "source": [
    "Marks.plot(kind='bar',figsize=(15, 6))\n",
    "plt.title('A graph representing the marks of students in different states for the 12th final exam PMB(Physics, Bio and Maths)')\n",
    "plt.show()\n"
   ]
  }
 ],
 "metadata": {
  "kaggle": {
   "accelerator": "none",
   "dataSources": [
    {
     "datasetId": 2257109,
     "sourceId": 3780999,
     "sourceType": "datasetVersion"
    }
   ],
   "dockerImageVersionId": 30698,
   "isGpuEnabled": false,
   "isInternetEnabled": true,
   "language": "python",
   "sourceType": "notebook"
  },
  "kernelspec": {
   "display_name": "Python 3",
   "language": "python",
   "name": "python3"
  },
  "language_info": {
   "codemirror_mode": {
    "name": "ipython",
    "version": 3
   },
   "file_extension": ".py",
   "mimetype": "text/x-python",
   "name": "python",
   "nbconvert_exporter": "python",
   "pygments_lexer": "ipython3",
   "version": "3.10.13"
  },
  "papermill": {
   "default_parameters": {},
   "duration": 8.117698,
   "end_time": "2024-06-25T20:27:00.353770",
   "environment_variables": {},
   "exception": null,
   "input_path": "__notebook__.ipynb",
   "output_path": "__notebook__.ipynb",
   "parameters": {},
   "start_time": "2024-06-25T20:26:52.236072",
   "version": "2.5.0"
  }
 },
 "nbformat": 4,
 "nbformat_minor": 5
}
